{
  "nbformat": 4,
  "nbformat_minor": 0,
  "metadata": {
    "colab": {
      "name": "Part1-GettingData.ipynb",
      "provenance": [],
      "collapsed_sections": [
        "UqS8ama-x3qN"
      ],
      "include_colab_link": true
    },
    "kernelspec": {
      "name": "python3",
      "display_name": "Python 3"
    }
  },
  "cells": [
    {
      "cell_type": "markdown",
      "metadata": {
        "id": "view-in-github",
        "colab_type": "text"
      },
      "source": [
        "<a href=\"https://colab.research.google.com/github/WilliamC7879/USC_dh_helper/blob/master/Part1_GettingData.ipynb\" target=\"_parent\"><img src=\"https://colab.research.google.com/assets/colab-badge.svg\" alt=\"Open In Colab\"/></a>"
      ]
    },
    {
      "cell_type": "markdown",
      "metadata": {
        "id": "09S4RtyktOCG",
        "colab_type": "text"
      },
      "source": [
        "# Part 1"
      ]
    },
    {
      "cell_type": "code",
      "metadata": {
        "id": "Ekjf_kJUOC8o",
        "colab_type": "code",
        "colab": {}
      },
      "source": [
        "from lxml import html\n",
        "import requests"
      ],
      "execution_count": 0,
      "outputs": []
    },
    {
      "cell_type": "markdown",
      "metadata": {
        "id": "UqS8ama-x3qN",
        "colab_type": "text"
      },
      "source": [
        "## Running example code"
      ]
    },
    {
      "cell_type": "code",
      "metadata": {
        "id": "q_uBnZTrx5Kj",
        "colab_type": "code",
        "colab": {}
      },
      "source": [
        "page = requests.get('http://econpy.pythonanywhere.com/ex/001.html')\n",
        "tree = html.fromstring(page.content)"
      ],
      "execution_count": 0,
      "outputs": []
    },
    {
      "cell_type": "code",
      "metadata": {
        "id": "Jj4TGvNBx9wU",
        "colab_type": "code",
        "outputId": "2e771f1d-49e9-4c8b-fcde-c216d0636ea1",
        "colab": {
          "base_uri": "https://localhost:8080/",
          "height": 1000
        }
      },
      "source": [
        "names = tree.xpath('//div[@title=\"buyer-info\"]/text()')\n",
        "names"
      ],
      "execution_count": 0,
      "outputs": [
        {
          "output_type": "execute_result",
          "data": {
            "text/plain": [
              "['\\n  ',\n",
              " '\\n  ',\n",
              " '\\n',\n",
              " '\\n  ',\n",
              " '\\n  ',\n",
              " '\\n',\n",
              " '\\n  ',\n",
              " '\\n  ',\n",
              " '\\n',\n",
              " '\\n  ',\n",
              " '\\n  ',\n",
              " '\\n',\n",
              " '\\n  ',\n",
              " '\\n  ',\n",
              " '\\n',\n",
              " '\\n  ',\n",
              " '\\n  ',\n",
              " '\\n',\n",
              " '\\n  ',\n",
              " '\\n  ',\n",
              " '\\n',\n",
              " '\\n  ',\n",
              " '\\n  ',\n",
              " '\\n',\n",
              " '\\n  ',\n",
              " '\\n  ',\n",
              " '\\n',\n",
              " '\\n  ',\n",
              " '\\n  ',\n",
              " '\\n',\n",
              " '\\n  ',\n",
              " '\\n  ',\n",
              " '\\n',\n",
              " '\\n  ',\n",
              " '\\n  ',\n",
              " '\\n',\n",
              " '\\n  ',\n",
              " '\\n  ',\n",
              " '\\n',\n",
              " '\\n  ',\n",
              " '\\n  ',\n",
              " '\\n',\n",
              " '\\n  ',\n",
              " '\\n  ',\n",
              " '\\n',\n",
              " '\\n  ',\n",
              " '\\n  ',\n",
              " '\\n',\n",
              " '\\n  ',\n",
              " '\\n  ',\n",
              " '\\n',\n",
              " '\\n  ',\n",
              " '\\n  ',\n",
              " '\\n',\n",
              " '\\n  ',\n",
              " '\\n  ',\n",
              " '\\n',\n",
              " '\\n  ',\n",
              " '\\n  ',\n",
              " '\\n']"
            ]
          },
          "metadata": {
            "tags": []
          },
          "execution_count": 75
        }
      ]
    },
    {
      "cell_type": "code",
      "metadata": {
        "id": "58d1fsuEx9rE",
        "colab_type": "code",
        "colab": {}
      },
      "source": [
        ""
      ],
      "execution_count": 0,
      "outputs": []
    },
    {
      "cell_type": "code",
      "metadata": {
        "id": "FxOYqBgYx9nJ",
        "colab_type": "code",
        "colab": {}
      },
      "source": [
        ""
      ],
      "execution_count": 0,
      "outputs": []
    },
    {
      "cell_type": "markdown",
      "metadata": {
        "id": "NAnKnmpZx2pp",
        "colab_type": "text"
      },
      "source": [
        "## My turn"
      ]
    },
    {
      "cell_type": "code",
      "metadata": {
        "id": "DB_A4QEFOF2t",
        "colab_type": "code",
        "colab": {}
      },
      "source": [
        "url = 'https://hospitality.usc.edu/residential-dining-menus/'\n",
        "url2 = 'https://hospitality.usc.edu/residential-dining-menus/?menu_date=November+19%2C+2019'\n",
        "\n",
        "page = requests.get(url)\n",
        "tree = html.fromstring(page.content)"
      ],
      "execution_count": 0,
      "outputs": []
    },
    {
      "cell_type": "code",
      "metadata": {
        "id": "01KMbfxKbrV3",
        "colab_type": "code",
        "colab": {}
      },
      "source": [
        "# first layer: [\"breakfast\", \"brunch\", \"lunch\", \"dinner\"]\n",
        "# second layer: [\"Village\", \"Parkside\", \"EVK\"]\n",
        "menu = []\n",
        "\n",
        "# full menu\n",
        "menu_html = tree.find('.//div[@class=\"fw-accordion-custom meal-section\"]')\n",
        "\n",
        "# break down by meal\n",
        "meals_html = menu_html.findall('.//div[@class=\"hsp-accordian-container\"]')\n",
        "\n",
        "for i, meal in enumerate(meals_html):\n",
        "    menu.append([]) # per meal\n",
        "    dh_html = meal.findall('.//div[@class=\"col-sm-6 col-md-4\"]')\n",
        "\n",
        "    for j, dh in enumerate(dh_html):\n",
        "        menu[i].append([]) # per dining hall\n",
        "        foods_html = dh.findall('.//li')\n",
        "\n",
        "        for food in foods_html:\n",
        "            # get allergens for food\n",
        "            allergens_html = food.findall('.//span')[1:]\n",
        "            allergens = []\n",
        "            \n",
        "            for allergen in allergens_html:\n",
        "                allergens.append(allergen.text)\n",
        "\n",
        "            # construct/add dictionary for food item\n",
        "            menu[i][j].append({food.text: allergens})"
      ],
      "execution_count": 0,
      "outputs": []
    },
    {
      "cell_type": "code",
      "metadata": {
        "id": "yFXTwePnW21-",
        "colab_type": "code",
        "outputId": "f1846414-ddea-4681-883c-6d78ab490585",
        "colab": {
          "base_uri": "https://localhost:8080/",
          "height": 34
        }
      },
      "source": [
        "menu[3][0][43] # returns traditional hummus for nov 17"
      ],
      "execution_count": 11,
      "outputs": [
        {
          "output_type": "execute_result",
          "data": {
            "text/plain": [
              "{'General Tso Veggie and Tofu Bowl': ['Sesame', 'Soy', 'Vegan']}"
            ]
          },
          "metadata": {
            "tags": []
          },
          "execution_count": 11
        }
      ]
    },
    {
      "cell_type": "markdown",
      "metadata": {
        "id": "2h9RXZedgCrz",
        "colab_type": "text"
      },
      "source": [
        "## Old"
      ]
    },
    {
      "cell_type": "code",
      "metadata": {
        "id": "Vk8ujL1dBmmF",
        "colab_type": "code",
        "outputId": "08bb4b4c-42cc-4c67-e144-a9cf5ab0ecac",
        "colab": {
          "base_uri": "https://localhost:8080/",
          "height": 34
        }
      },
      "source": [
        "all_meals_html = tree.find('.//div[@class=\"fw-accordion-custom meal-section\"]')\n",
        "\n",
        "# [\"breakfast\", \"brunch\", \"lunch\", \"dinner\"]\n",
        "meals_html = all_meals_html.findall('.//div[@class=\"hsp-accordian-container\"]')\n",
        "\n",
        "sections_html = []\n",
        "for meal in meals_html:\n",
        "    sections_html.append(meal.findall('.//ul[@class=\"menu-item-list\"]'))\n",
        "\n",
        "print(len(sections_html[1]), len(sections_html[3]))"
      ],
      "execution_count": 0,
      "outputs": [
        {
          "output_type": "stream",
          "text": [
            "15 15\n"
          ],
          "name": "stdout"
        }
      ]
    },
    {
      "cell_type": "code",
      "metadata": {
        "id": "H9gBIqkfMMMM",
        "colab_type": "code",
        "outputId": "f8c442fb-2ed1-4e03-8e40-a2bac418f14d",
        "colab": {
          "base_uri": "https://localhost:8080/",
          "height": 71
        }
      },
      "source": [
        "test = sections_html[1][0].findall('.//li')\n",
        "print(html.tostring(test[0]))\n",
        "print(test[0].text)"
      ],
      "execution_count": 0,
      "outputs": [
        {
          "output_type": "stream",
          "text": [
            "b'<li>Boiled Eggs<span class=\"fa-allergen-container\"><i class=\"fa fa-circle fa-allergen allergen-eggs allergen-tooltip\"><span>Eggs</span></i><i class=\"fa fa-circle fa-allergen allergen-vegetarian allergen-tooltip\"><span>Vegetarian</span></i></span></li>'\n",
            "Boiled Eggs\n"
          ],
          "name": "stdout"
        }
      ]
    },
    {
      "cell_type": "code",
      "metadata": {
        "id": "NHebFtEUVSL-",
        "colab_type": "code",
        "outputId": "71dec5c8-d3d2-4dbb-f0db-f6a69eb792dc",
        "colab": {
          "base_uri": "https://localhost:8080/",
          "height": 51
        }
      },
      "source": [
        "test_0 = test[0].findall('.//span')\n",
        "\n",
        "for t in test_0[1:]:\n",
        "    #print(html.tostring(t))\n",
        "    print(t.text)\n",
        "\n",
        "#html.tostring(test_0[2])"
      ],
      "execution_count": 0,
      "outputs": [
        {
          "output_type": "stream",
          "text": [
            "Eggs\n",
            "Vegetarian\n"
          ],
          "name": "stdout"
        }
      ]
    },
    {
      "cell_type": "code",
      "metadata": {
        "id": "MQ8_OLRzL4DG",
        "colab_type": "code",
        "outputId": "a3ede961-3d6d-4e77-826c-76e4a3094727",
        "colab": {
          "base_uri": "https://localhost:8080/",
          "height": 54
        }
      },
      "source": [
        "#html.tostring(meals_html[0])"
      ],
      "execution_count": 0,
      "outputs": [
        {
          "output_type": "execute_result",
          "data": {
            "text/plain": [
              "b'<div class=\"hsp-accordian-container\"><h2 class=\"fw-accordion-title ui-state-active\"><span class=\"ui-accordion-header-icon ui-icon ui-icon-triangle-1-s\"></span><span class=\"fw-accordion-title-inner\">Breakfast for Saturday - November 16, 2019</span></h2><div class=\"fw-accordion-content dining-location-accordion row\"><div class=\"col-sm-6 col-md-4\"><h3 class=\"menu-venue-title\">USC Village Dining Hall</h3><a href=\"https://hospitality.usc.edu/residential-dining-menus//?menu_venue=venue-27229&amp;menu_date=11/16/2019\" class=\"\">View Full Menu</a><h4>No items to display for this date</h4></div><div class=\"col-sm-6 col-md-4\"><h3 class=\"menu-venue-title\">Parkside Restaurant &amp; Grill</h3><a href=\"https://hospitality.usc.edu/residential-dining-menus//?menu_venue=venue-518&amp;menu_date=11/16/2019\" class=\"\">View Full Menu</a><h4>No items to display for this date</h4></div><div class=\"col-sm-6 col-md-4\"><h3 class=\"menu-venue-title\">Everybody\\'s Kitchen</h3><a href=\"https://hospitality.usc.edu/residential-dining-menus//?menu_venue=venue-514&amp;menu_date=11/16/2019\" class=\"\">View Full Menu</a><h4>No items to display for this date</h4></div></div></div>'"
            ]
          },
          "metadata": {
            "tags": []
          },
          "execution_count": 25
        }
      ]
    },
    {
      "cell_type": "code",
      "metadata": {
        "id": "bkME-nZM5WGM",
        "colab_type": "code",
        "outputId": "a6a186a8-91e4-4c37-dcf1-3f0b27da9b76",
        "colab": {
          "base_uri": "https://localhost:8080/",
          "height": 581
        }
      },
      "source": [
        "foods_html = tree.findall('.//ul[@class=\"menu-item-list\"]')\n",
        "#foods = foods_html[0].xpath('//ul[@class=\"menu-item-list\"]/text()')\n",
        "for foods in foods_html:\n",
        "    print(html.tostring(foods))\n",
        "\n",
        "print('\\n', len(foods_html))"
      ],
      "execution_count": 0,
      "outputs": [
        {
          "output_type": "stream",
          "text": [
            "b'<ul class=\"menu-item-list\"><li>Boiled Eggs<span class=\"fa-allergen-container\"><i class=\"fa fa-circle fa-allergen allergen-eggs allergen-tooltip\"><span>Eggs</span></i><i class=\"fa fa-circle fa-allergen allergen-vegetarian allergen-tooltip\"><span>Vegetarian</span></i></span></li><li>Scrambled Eggs<span class=\"fa-allergen-container\"><i class=\"fa fa-circle fa-allergen allergen-eggs allergen-tooltip\"><span>Eggs</span></i><i class=\"fa fa-circle fa-allergen allergen-vegetarian allergen-tooltip\"><span>Vegetarian</span></i></span></li><li>Gardein Vegan Sausage Patty<span class=\"fa-allergen-container\"><i class=\"fa fa-circle fa-allergen allergen-soy allergen-tooltip\"><span>Soy</span></i><i class=\"fa fa-circle fa-allergen allergen-vegan allergen-tooltip\"><span>Vegan</span></i><i class=\"fa fa-circle fa-allergen allergen-gluten allergen-tooltip\"><span>Wheat / Gluten</span></i></span></li><li>Triangle Hash Browns<span class=\"fa-allergen-container\"><i class=\"fa fa-circle fa-allergen allergen-soy allergen-tooltip\"><span>Soy</span></i><i class=\"fa fa-circle fa-allergen allergen-vegan allergen-tooltip\"><span>Vegan</span></i></span></li><li>Horchata French Toast with Caramel Sauce<span class=\"fa-allergen-container\"><i class=\"fa fa-circle fa-allergen allergen-dairy allergen-tooltip\"><span>Dairy</span></i><i class=\"fa fa-circle fa-allergen allergen-eggs allergen-tooltip\"><span>Eggs</span></i><i class=\"fa fa-circle fa-allergen allergen-soy allergen-tooltip\"><span>Soy</span></i><i class=\"fa fa-circle fa-allergen allergen-vegetarian allergen-tooltip\"><span>Vegetarian</span></i><i class=\"fa fa-circle fa-allergen allergen-gluten allergen-tooltip\"><span>Wheat / Gluten</span></i></span></li></ul>'\n",
            "b'<ul class=\"menu-item-list\"><li>Made to Order Cage Free Omelettes (Customize for veggie option)<span class=\"fa-allergen-container\"><i class=\"fa fa-circle fa-allergen allergen-dairy allergen-tooltip\"><span>Dairy</span></i><i class=\"fa fa-circle fa-allergen allergen-eggs allergen-tooltip\"><span>Eggs</span></i><i class=\"fa fa-circle fa-allergen allergen-pork allergen-tooltip\"><span>Pork</span></i><i class=\"fa fa-circle fa-allergen allergen-soy allergen-tooltip\"><span>Soy</span></i><i class=\"fa fa-circle fa-allergen allergen-vegan allergen-tooltip\"><span>Vegan</span></i><i class=\"fa fa-circle fa-allergen allergen-vegetarian allergen-tooltip\"><span>Vegetarian</span></i></span></li><li>Omelettes Available Until 2pm<span class=\"fa-allergen-container\"></span></li><li>Crepes and Ice Cream Available at 4pm<span class=\"fa-allergen-container\"></span></li></ul>'\n",
            "b'<ul class=\"menu-item-list\"><li>Strawberry Yogurt<span class=\"fa-allergen-container\"><i class=\"fa fa-circle fa-allergen allergen-dairy allergen-tooltip\"><span>Dairy</span></i></span></li><li>Vanilla Yogurt<span class=\"fa-allergen-container\"><i class=\"fa fa-circle fa-allergen allergen-dairy allergen-tooltip\"><span>Dairy</span></i><i class=\"fa fa-circle fa-allergen allergen-vegetarian allergen-tooltip\"><span>Vegetarian</span></i></span></li><li>Assorted Fruits<span class=\"fa-allergen-container\"><i class=\"fa fa-circle fa-allergen allergen-vegan allergen-tooltip\"><span>Vegan</span></i></span></li><li>Oat n\\' Honey Granola<span class=\"fa-allergen-container\"><i class=\"fa fa-circle fa-allergen allergen-soy allergen-tooltip\"><span>Soy</span></i><i class=\"fa fa-circle fa-allergen allergen-vegetarian allergen-tooltip\"><span>Vegetarian</span></i><i class=\"fa fa-circle fa-allergen allergen-gluten allergen-tooltip\"><span>Wheat / Gluten</span></i></span></li><li>Peanut Butter<span class=\"fa-allergen-container\"><i class=\"fa fa-circle fa-allergen allergen-peanuts allergen-tooltip\"><span>Peanuts</span></i><i class=\"fa fa-circle fa-allergen allergen-soy allergen-tooltip\"><span>Soy</span></i><i class=\"fa fa-circle fa-allergen allergen-vegetarian allergen-tooltip\"><span>Vegetarian</span></i></span></li><li>Strawberry Preserves<span class=\"fa-allergen-container\"><i class=\"fa fa-circle fa-allergen allergen-vegetarian allergen-tooltip\"><span>Vegetarian</span></i></span></li><li>Mustard Dijon<span class=\"fa-allergen-container\"><i class=\"fa fa-circle fa-allergen allergen-vegan allergen-tooltip\"><span>Vegan</span></i></span></li><li>Mayonnaise<span class=\"fa-allergen-container\"><i class=\"fa fa-circle fa-allergen allergen-eggs allergen-tooltip\"><span>Eggs</span></i><i class=\"fa fa-circle fa-allergen allergen-soy allergen-tooltip\"><span>Soy</span></i><i class=\"fa fa-circle fa-allergen allergen-vegetarian allergen-tooltip\"><span>Vegetarian</span></i></span></li><li>Tuna Salad<span class=\"fa-allergen-container\"><i class=\"fa fa-circle fa-allergen allergen-eggs allergen-tooltip\"><span>Eggs</span></i><i class=\"fa fa-circle fa-allergen allergen-fish allergen-tooltip\"><span>Fish</span></i><i class=\"fa fa-circle fa-allergen allergen-soy allergen-tooltip\"><span>Soy</span></i></span></li><li>Spiral Sliced Ham<span class=\"fa-allergen-container\"><i class=\"fa fa-circle fa-allergen allergen-pork allergen-tooltip\"><span>Pork</span></i></span></li><li>Sliced Turkey<span class=\"fa-allergen-container\"></span></li><li>Dill Pickles<span class=\"fa-allergen-container\"><i class=\"fa fa-circle fa-allergen allergen-vegan allergen-tooltip\"><span>Vegan</span></i></span></li><li>Assorted Sliced Cheese<span class=\"fa-allergen-container\"><i class=\"fa fa-circle fa-allergen allergen-dairy allergen-tooltip\"><span>Dairy</span></i><i class=\"fa fa-circle fa-allergen allergen-vegetarian allergen-tooltip\"><span>Vegetarian</span></i></span></li><li>Sliced Onion<span class=\"fa-allergen-container\"><i class=\"fa fa-circle fa-allergen allergen-vegan allergen-tooltip\"><span>Vegan</span></i></span></li><li>Sliced Tomatoes<span class=\"fa-allergen-container\"><i class=\"fa fa-circle fa-allergen allergen-vegan allergen-tooltip\"><span>Vegan</span></i></span></li><li>Lettuce<span class=\"fa-allergen-container\"><i class=\"fa fa-circle fa-allergen allergen-vegan allergen-tooltip\"><span>Vegan</span></i></span></li><li>Sliced French Bread<span class=\"fa-allergen-container\"><i class=\"fa fa-circle fa-allergen allergen-vegan allergen-tooltip\"><span>Vegan</span></i><i class=\"fa fa-circle fa-allergen allergen-gluten allergen-tooltip\"><span>Wheat / Gluten</span></i></span></li><li>Sliced Sourdough Bread<span class=\"fa-allergen-container\"><i class=\"fa fa-circle fa-allergen allergen-vegan allergen-tooltip\"><span>Vegan</span></i><i class=\"fa fa-circle fa-allergen allergen-gluten allergen-tooltip\"><span>Wheat / Gluten</span></i></span></li><li>Sliced Multi Grain Bread<span class=\"fa-allergen-container\"><i class=\"fa fa-circle fa-allergen allergen-vegetarian allergen-tooltip\"><span>Vegetarian</span></i><i class=\"fa fa-circle fa-allergen allergen-gluten allergen-tooltip\"><span>Wheat / Gluten</span></i></span></li><li>Sliced Honey Wheat Bread<span class=\"fa-allergen-container\"><i class=\"fa fa-circle fa-allergen allergen-dairy allergen-tooltip\"><span>Dairy</span></i><i class=\"fa fa-circle fa-allergen allergen-vegetarian allergen-tooltip\"><span>Vegetarian</span></i><i class=\"fa fa-circle fa-allergen allergen-gluten allergen-tooltip\"><span>Wheat / Gluten</span></i></span></li></ul>'\n",
            "b'<ul class=\"menu-item-list\"><li>Asian Style Dressing<span class=\"fa-allergen-container\"><i class=\"fa fa-circle fa-allergen allergen-sesame allergen-tooltip\"><span>Sesame</span></i><i class=\"fa fa-circle fa-allergen allergen-soy allergen-tooltip\"><span>Soy</span></i><i class=\"fa fa-circle fa-allergen allergen-vegetarian allergen-tooltip\"><span>Vegetarian</span></i></span></li><li>Blue Cheese Dressing<span class=\"fa-allergen-container\"><i class=\"fa fa-circle fa-allergen allergen-dairy allergen-tooltip\"><span>Dairy</span></i><i class=\"fa fa-circle fa-allergen allergen-eggs allergen-tooltip\"><span>Eggs</span></i><i class=\"fa fa-circle fa-allergen allergen-soy allergen-tooltip\"><span>Soy</span></i><i class=\"fa fa-circle fa-allergen allergen-vegetarian allergen-tooltip\"><span>Vegetarian</span></i></span></li><li>Ranch Dressing<span class=\"fa-allergen-container\"><i class=\"fa fa-circle fa-allergen allergen-dairy allergen-tooltip\"><span>Dairy</span></i><i class=\"fa fa-circle fa-allergen allergen-eggs allergen-tooltip\"><span>Eggs</span></i><i class=\"fa fa-circle fa-allergen allergen-soy allergen-tooltip\"><span>Soy</span></i><i class=\"fa fa-circle fa-allergen allergen-vegetarian allergen-tooltip\"><span>Vegetarian</span></i></span></li><li>Vegan Caesar Dressing<span class=\"fa-allergen-container\"><i class=\"fa fa-circle fa-allergen allergen-soy allergen-tooltip\"><span>Soy</span></i><i class=\"fa fa-circle fa-allergen allergen-vegan allergen-tooltip\"><span>Vegan</span></i></span></li><li>Balsamic Vinaigrette<span class=\"fa-allergen-container\"><i class=\"fa fa-circle fa-allergen allergen-vegan allergen-tooltip\"><span>Vegan</span></i></span></li><li>Red Wine Vinaigrette<span class=\"fa-allergen-container\"><i class=\"fa fa-circle fa-allergen allergen-soy allergen-tooltip\"><span>Soy</span></i><i class=\"fa fa-circle fa-allergen allergen-vegan allergen-tooltip\"><span>Vegan</span></i></span></li><li>Bob\\'s Red Mill Thick Cut Oatmeal<span class=\"fa-allergen-container\"><i class=\"fa fa-circle fa-allergen allergen-vegan allergen-tooltip\"><span>Vegan</span></i><i class=\"fa fa-circle fa-allergen allergen-gluten allergen-tooltip\"><span>Wheat / Gluten</span></i></span></li></ul>'\n",
            "b'<ul class=\"menu-item-list\"><li>Chopped Tomatoes<span class=\"fa-allergen-container\"><i class=\"fa fa-circle fa-allergen allergen-vegan allergen-tooltip\"><span>Vegan</span></i></span></li><li>Expo Tostada Chicken<span class=\"fa-allergen-container\"></span></li><li>Expo Mexican Ground Beef<span class=\"fa-allergen-container\"></span></li><li>Tostadas<span class=\"fa-allergen-container\"><i class=\"fa fa-circle fa-allergen allergen-vegan allergen-tooltip\"><span>Vegan</span></i></span></li><li>Pinto Beans<span class=\"fa-allergen-container\"><i class=\"fa fa-circle fa-allergen allergen-vegan allergen-tooltip\"><span>Vegan</span></i></span></li><li>Black Beans<span class=\"fa-allergen-container\"><i class=\"fa fa-circle fa-allergen allergen-vegan allergen-tooltip\"><span>Vegan</span></i></span></li><li>Sauteed Peppers and Onions<span class=\"fa-allergen-container\"><i class=\"fa fa-circle fa-allergen allergen-vegan allergen-tooltip\"><span>Vegan</span></i></span></li><li>Shredded Lettuce<span class=\"fa-allergen-container\"><i class=\"fa fa-circle fa-allergen allergen-vegan allergen-tooltip\"><span>Vegan</span></i></span></li><li>Chopped Cilantro and Onion<span class=\"fa-allergen-container\"><i class=\"fa fa-circle fa-allergen allergen-vegan allergen-tooltip\"><span>Vegan</span></i></span></li><li>Shredded Monterey Jack and Cheddar Cheese<span class=\"fa-allergen-container\"><i class=\"fa fa-circle fa-allergen allergen-dairy allergen-tooltip\"><span>Dairy</span></i><i class=\"fa fa-circle fa-allergen allergen-vegetarian allergen-tooltip\"><span>Vegetarian</span></i></span></li><li>Sour Cream<span class=\"fa-allergen-container\"><i class=\"fa fa-circle fa-allergen allergen-dairy allergen-tooltip\"><span>Dairy</span></i><i class=\"fa fa-circle fa-allergen allergen-vegetarian allergen-tooltip\"><span>Vegetarian</span></i></span></li><li>Salsa Roja<span class=\"fa-allergen-container\"><i class=\"fa fa-circle fa-allergen allergen-vegan allergen-tooltip\"><span>Vegan</span></i></span></li><li>Salsa Verde<span class=\"fa-allergen-container\"><i class=\"fa fa-circle fa-allergen allergen-vegan allergen-tooltip\"><span>Vegan</span></i></span></li></ul>'\n",
            "b'<ul class=\"menu-item-list\"><li>Assorted Pastries and Desserts<span class=\"fa-allergen-container\"><i class=\"fa fa-circle fa-allergen allergen-dairy allergen-tooltip\"><span>Dairy</span></i><i class=\"fa fa-circle fa-allergen allergen-eggs allergen-tooltip\"><span>Eggs</span></i><i class=\"fa fa-circle fa-allergen allergen-soy allergen-tooltip\"><span>Soy</span></i><i class=\"fa fa-circle fa-allergen allergen-tree-nuts allergen-tooltip\"><span>Tree Nuts</span></i><i class=\"fa fa-circle fa-allergen allergen-vegetarian allergen-tooltip\"><span>Vegetarian</span></i><i class=\"fa fa-circle fa-allergen allergen-gluten allergen-tooltip\"><span>Wheat / Gluten</span></i></span></li><li>Assorted Fruits<span class=\"fa-allergen-container\"><i class=\"fa fa-circle fa-allergen allergen-vegan allergen-tooltip\"><span>Vegan</span></i></span></li><li>Blackberry Cobbler<span class=\"fa-allergen-container\"><i class=\"fa fa-circle fa-allergen allergen-dairy allergen-tooltip\"><span>Dairy</span></i><i class=\"fa fa-circle fa-allergen allergen-vegetarian allergen-tooltip\"><span>Vegetarian</span></i><i class=\"fa fa-circle fa-allergen allergen-gluten allergen-tooltip\"><span>Wheat / Gluten</span></i></span></li></ul>'\n",
            "b'<ul class=\"menu-item-list\"><li>Vegan Eggplant Parmesan<span class=\"fa-allergen-container\"><i class=\"fa fa-circle fa-allergen allergen-food-not-analyzed-for-allergens allergen-tooltip\"><span>Food Not Analyzed for Allergens</span></i></span></li><li>Pasta with Vegan Pesto<span class=\"fa-allergen-container\"><i class=\"fa fa-circle fa-allergen allergen-vegan allergen-tooltip\"><span>Vegan</span></i><i class=\"fa fa-circle fa-allergen allergen-gluten allergen-tooltip\"><span>Wheat / Gluten</span></i></span></li><li>Turmeric Rice and Chickpea Bowl with Pinenuts<span class=\"fa-allergen-container\"><i class=\"fa fa-circle fa-allergen allergen-food-not-analyzed-for-allergens allergen-tooltip\"><span>Food Not Analyzed for Allergens</span></i></span></li></ul>'\n",
            "b'<ul class=\"menu-item-list\"><li>Traditional Hummus<span class=\"fa-allergen-container\"><i class=\"fa fa-circle fa-allergen allergen-sesame allergen-tooltip\"><span>Sesame</span></i><i class=\"fa fa-circle fa-allergen allergen-vegan allergen-tooltip\"><span>Vegan</span></i></span></li><li>Roasted Red Pepper Hummus<span class=\"fa-allergen-container\"><i class=\"fa fa-circle fa-allergen allergen-sesame allergen-tooltip\"><span>Sesame</span></i><i class=\"fa fa-circle fa-allergen allergen-vegan allergen-tooltip\"><span>Vegan</span></i></span></li><li>Cilantro Hummus<span class=\"fa-allergen-container\"><i class=\"fa fa-circle fa-allergen allergen-sesame allergen-tooltip\"><span>Sesame</span></i><i class=\"fa fa-circle fa-allergen allergen-vegan allergen-tooltip\"><span>Vegan</span></i></span></li><li>Roasted Vegetables<span class=\"fa-allergen-container\"><i class=\"fa fa-circle fa-allergen allergen-vegan allergen-tooltip\"><span>Vegan</span></i></span></li><li>Assorted Olives<span class=\"fa-allergen-container\"><i class=\"fa fa-circle fa-allergen allergen-vegan allergen-tooltip\"><span>Vegan</span></i></span></li><li>Olive Tapenade<span class=\"fa-allergen-container\"><i class=\"fa fa-circle fa-allergen allergen-vegan allergen-tooltip\"><span>Vegan</span></i></span></li><li>Tahini Sauce<span class=\"fa-allergen-container\"><i class=\"fa fa-circle fa-allergen allergen-sesame allergen-tooltip\"><span>Sesame</span></i><i class=\"fa fa-circle fa-allergen allergen-vegan allergen-tooltip\"><span>Vegan</span></i></span></li><li>Assorted Pickled and Marinated Vegetables<span class=\"fa-allergen-container\"><i class=\"fa fa-circle fa-allergen allergen-vegan allergen-tooltip\"><span>Vegan</span></i></span></li><li>Tabbouleh<span class=\"fa-allergen-container\"><i class=\"fa fa-circle fa-allergen allergen-vegan allergen-tooltip\"><span>Vegan</span></i><i class=\"fa fa-circle fa-allergen allergen-gluten allergen-tooltip\"><span>Wheat / Gluten</span></i></span></li><li>Pasta Salad<span class=\"fa-allergen-container\"><i class=\"fa fa-circle fa-allergen allergen-vegan allergen-tooltip\"><span>Vegan</span></i><i class=\"fa fa-circle fa-allergen allergen-gluten allergen-tooltip\"><span>Wheat / Gluten</span></i></span></li></ul>'\n",
            "b'<ul class=\"menu-item-list\"><li>Scrambled Eggs<span class=\"fa-allergen-container\"><i class=\"fa fa-circle fa-allergen allergen-eggs allergen-tooltip\"><span>Eggs</span></i><i class=\"fa fa-circle fa-allergen allergen-vegetarian allergen-tooltip\"><span>Vegetarian</span></i></span></li><li>Boiled Eggs<span class=\"fa-allergen-container\"><i class=\"fa fa-circle fa-allergen allergen-eggs allergen-tooltip\"><span>Eggs</span></i><i class=\"fa fa-circle fa-allergen allergen-vegetarian allergen-tooltip\"><span>Vegetarian</span></i></span></li><li>Bacon<span class=\"fa-allergen-container\"><i class=\"fa fa-circle fa-allergen allergen-pork allergen-tooltip\"><span>Pork</span></i></span></li><li>Herb Roasted Potatoes<span class=\"fa-allergen-container\"><i class=\"fa fa-circle fa-allergen allergen-vegan allergen-tooltip\"><span>Vegan</span></i></span></li><li>Pork Sausage Patty<span class=\"fa-allergen-container\"><i class=\"fa fa-circle fa-allergen allergen-pork allergen-tooltip\"><span>Pork</span></i></span></li><li>Gardein Vegan Sausage Patty<span class=\"fa-allergen-container\"><i class=\"fa fa-circle fa-allergen allergen-soy allergen-tooltip\"><span>Soy</span></i><i class=\"fa fa-circle fa-allergen allergen-vegan allergen-tooltip\"><span>Vegan</span></i><i class=\"fa fa-circle fa-allergen allergen-gluten allergen-tooltip\"><span>Wheat / Gluten</span></i></span></li></ul>'\n",
            "b'<ul class=\"menu-item-list\"><li>Assorted Yogurt (Non-dairy yogurt available upon request)<span class=\"fa-allergen-container\"><i class=\"fa fa-circle fa-allergen allergen-dairy allergen-tooltip\"><span>Dairy</span></i><i class=\"fa fa-circle fa-allergen allergen-soy allergen-tooltip\"><span>Soy</span></i><i class=\"fa fa-circle fa-allergen allergen-vegan allergen-tooltip\"><span>Vegan</span></i><i class=\"fa fa-circle fa-allergen allergen-vegetarian allergen-tooltip\"><span>Vegetarian</span></i></span></li><li>Waffle Bar<span class=\"fa-allergen-container\"><i class=\"fa fa-circle fa-allergen allergen-dairy allergen-tooltip\"><span>Dairy</span></i><i class=\"fa fa-circle fa-allergen allergen-eggs allergen-tooltip\"><span>Eggs</span></i><i class=\"fa fa-circle fa-allergen allergen-soy allergen-tooltip\"><span>Soy</span></i><i class=\"fa fa-circle fa-allergen allergen-vegetarian allergen-tooltip\"><span>Vegetarian</span></i><i class=\"fa fa-circle fa-allergen allergen-gluten allergen-tooltip\"><span>Wheat / Gluten</span></i></span></li><li>Salad and Deli Bar (Customize for veggie options)<span class=\"fa-allergen-container\"><i class=\"fa fa-circle fa-allergen allergen-food-not-analyzed-for-allergens allergen-tooltip\"><span>Food Not Analyzed for Allergens</span></i></span></li><li>Assorted Fruits<span class=\"fa-allergen-container\"><i class=\"fa fa-circle fa-allergen allergen-vegan allergen-tooltip\"><span>Vegan</span></i></span></li><li>Pepperoni Flatbread Pizza<span class=\"fa-allergen-container\"><i class=\"fa fa-circle fa-allergen allergen-dairy allergen-tooltip\"><span>Dairy</span></i><i class=\"fa fa-circle fa-allergen allergen-pork allergen-tooltip\"><span>Pork</span></i><i class=\"fa fa-circle fa-allergen allergen-gluten allergen-tooltip\"><span>Wheat / Gluten</span></i></span></li><li>Creamy Spinach and Ricotta Naan Pizza<span class=\"fa-allergen-container\"><i class=\"fa fa-circle fa-allergen allergen-dairy allergen-tooltip\"><span>Dairy</span></i><i class=\"fa fa-circle fa-allergen allergen-eggs allergen-tooltip\"><span>Eggs</span></i><i class=\"fa fa-circle fa-allergen allergen-soy allergen-tooltip\"><span>Soy</span></i><i class=\"fa fa-circle fa-allergen allergen-vegetarian allergen-tooltip\"><span>Vegetarian</span></i><i class=\"fa fa-circle fa-allergen allergen-gluten allergen-tooltip\"><span>Wheat / Gluten</span></i></span></li><li>Roasted Beet Salad with Goat Cheese<span class=\"fa-allergen-container\"><i class=\"fa fa-circle fa-allergen allergen-dairy allergen-tooltip\"><span>Dairy</span></i><i class=\"fa fa-circle fa-allergen allergen-vegetarian allergen-tooltip\"><span>Vegetarian</span></i></span></li></ul>'\n",
            "b'<ul class=\"menu-item-list\"><li>Buttermilk Pancakes<span class=\"fa-allergen-container\"><i class=\"fa fa-circle fa-allergen allergen-dairy allergen-tooltip\"><span>Dairy</span></i><i class=\"fa fa-circle fa-allergen allergen-eggs allergen-tooltip\"><span>Eggs</span></i><i class=\"fa fa-circle fa-allergen allergen-soy allergen-tooltip\"><span>Soy</span></i><i class=\"fa fa-circle fa-allergen allergen-vegetarian allergen-tooltip\"><span>Vegetarian</span></i><i class=\"fa fa-circle fa-allergen allergen-gluten allergen-tooltip\"><span>Wheat / Gluten</span></i></span></li><li>Cajun Chicken<span class=\"fa-allergen-container\"></span></li><li>Steamship Roast Beef with Au Jus<span class=\"fa-allergen-container\"></span></li><li>Plain Pasta<span class=\"fa-allergen-container\"><i class=\"fa fa-circle fa-allergen allergen-vegan allergen-tooltip\"><span>Vegan</span></i><i class=\"fa fa-circle fa-allergen allergen-gluten allergen-tooltip\"><span>Wheat / Gluten</span></i></span></li><li>Roasted Garlic, Tomato and Basil Sauce<span class=\"fa-allergen-container\"><i class=\"fa fa-circle fa-allergen allergen-vegan allergen-tooltip\"><span>Vegan</span></i></span></li><li>Kidney Beans<span class=\"fa-allergen-container\"><i class=\"fa fa-circle fa-allergen allergen-vegan allergen-tooltip\"><span>Vegan</span></i></span></li><li>Honey Glazed Roasted Baby Carrots<span class=\"fa-allergen-container\"><i class=\"fa fa-circle fa-allergen allergen-dairy allergen-tooltip\"><span>Dairy</span></i><i class=\"fa fa-circle fa-allergen allergen-vegetarian allergen-tooltip\"><span>Vegetarian</span></i></span></li><li>Sauteed Greens<span class=\"fa-allergen-container\"><i class=\"fa fa-circle fa-allergen allergen-food-not-analyzed-for-allergens allergen-tooltip\"><span>Food Not Analyzed for Allergens</span></i><i class=\"fa fa-circle fa-allergen allergen-vegan allergen-tooltip\"><span>Vegan</span></i></span></li><li>Steamed Quinoa<span class=\"fa-allergen-container\"><i class=\"fa fa-circle fa-allergen allergen-vegan allergen-tooltip\"><span>Vegan</span></i></span></li><li>Vegetable Stew with Chickpeas, Eggplant and Tomatoes<span class=\"fa-allergen-container\"><i class=\"fa fa-circle fa-allergen allergen-vegan allergen-tooltip\"><span>Vegan</span></i></span></li><li>Garlic Mashed Potatoes<span class=\"fa-allergen-container\"><i class=\"fa fa-circle fa-allergen allergen-dairy allergen-tooltip\"><span>Dairy</span></i><i class=\"fa fa-circle fa-allergen allergen-vegetarian allergen-tooltip\"><span>Vegetarian</span></i></span></li><li>Oatmeal<span class=\"fa-allergen-container\"><i class=\"fa fa-circle fa-allergen allergen-vegan allergen-tooltip\"><span>Vegan</span></i><i class=\"fa fa-circle fa-allergen allergen-gluten allergen-tooltip\"><span>Wheat / Gluten</span></i></span></li><li>Beef Chili<span class=\"fa-allergen-container\"><i class=\"fa fa-circle fa-allergen allergen-dairy allergen-tooltip\"><span>Dairy</span></i></span></li></ul>'\n",
            "b'<ul class=\"menu-item-list\"><li>PIRC Made to Order Omelette Bar<span class=\"fa-allergen-container\"></span></li><li>Over Medium Eggs<span class=\"fa-allergen-container\"><i class=\"fa fa-circle fa-allergen allergen-eggs allergen-tooltip\"><span>Eggs</span></i><i class=\"fa fa-circle fa-allergen allergen-vegetarian allergen-tooltip\"><span>Vegetarian</span></i></span></li><li>Over Easy Eggs<span class=\"fa-allergen-container\"><i class=\"fa fa-circle fa-allergen allergen-eggs allergen-tooltip\"><span>Eggs</span></i><i class=\"fa fa-circle fa-allergen allergen-vegetarian allergen-tooltip\"><span>Vegetarian</span></i></span></li><li>Fried Egg<span class=\"fa-allergen-container\"><i class=\"fa fa-circle fa-allergen allergen-eggs allergen-tooltip\"><span>Eggs</span></i><i class=\"fa fa-circle fa-allergen allergen-vegetarian allergen-tooltip\"><span>Vegetarian</span></i></span></li><li>Egg Whites<span class=\"fa-allergen-container\"><i class=\"fa fa-circle fa-allergen allergen-eggs allergen-tooltip\"><span>Eggs</span></i><i class=\"fa fa-circle fa-allergen allergen-vegetarian allergen-tooltip\"><span>Vegetarian</span></i></span></li><li>Crumbled Pork Sausage<span class=\"fa-allergen-container\"><i class=\"fa fa-circle fa-allergen allergen-pork allergen-tooltip\"><span>Pork</span></i><i class=\"fa fa-circle fa-allergen allergen-soy allergen-tooltip\"><span>Soy</span></i></span></li><li>Chopped Ham<span class=\"fa-allergen-container\"><i class=\"fa fa-circle fa-allergen allergen-pork allergen-tooltip\"><span>Pork</span></i></span></li><li>Pork Chorizo<span class=\"fa-allergen-container\"><i class=\"fa fa-circle fa-allergen allergen-pork allergen-tooltip\"><span>Pork</span></i><i class=\"fa fa-circle fa-allergen allergen-soy allergen-tooltip\"><span>Soy</span></i></span></li><li>Bacon<span class=\"fa-allergen-container\"><i class=\"fa fa-circle fa-allergen allergen-pork allergen-tooltip\"><span>Pork</span></i></span></li><li>Tofu<span class=\"fa-allergen-container\"><i class=\"fa fa-circle fa-allergen allergen-soy allergen-tooltip\"><span>Soy</span></i><i class=\"fa fa-circle fa-allergen allergen-vegan allergen-tooltip\"><span>Vegan</span></i></span></li><li>Chopped Onion<span class=\"fa-allergen-container\"><i class=\"fa fa-circle fa-allergen allergen-vegan allergen-tooltip\"><span>Vegan</span></i></span></li><li>Chopped Bell Peppers<span class=\"fa-allergen-container\"><i class=\"fa fa-circle fa-allergen allergen-vegan allergen-tooltip\"><span>Vegan</span></i></span></li><li>Chopped Tomatoes<span class=\"fa-allergen-container\"><i class=\"fa fa-circle fa-allergen allergen-vegan allergen-tooltip\"><span>Vegan</span></i></span></li><li>Spinach Leaves<span class=\"fa-allergen-container\"><i class=\"fa fa-circle fa-allergen allergen-vegan allergen-tooltip\"><span>Vegan</span></i></span></li><li>Sliced Jalapenos<span class=\"fa-allergen-container\"><i class=\"fa fa-circle fa-allergen allergen-vegan allergen-tooltip\"><span>Vegan</span></i></span></li><li>Sliced Mushrooms<span class=\"fa-allergen-container\"><i class=\"fa fa-circle fa-allergen allergen-vegan allergen-tooltip\"><span>Vegan</span></i></span></li><li>Shredded Cheese<span class=\"fa-allergen-container\"><i class=\"fa fa-circle fa-allergen allergen-dairy allergen-tooltip\"><span>Dairy</span></i><i class=\"fa fa-circle fa-allergen allergen-vegetarian allergen-tooltip\"><span>Vegetarian</span></i></span></li></ul>'\n",
            "b'<ul class=\"menu-item-list\"><li>AAZ Latin Chicken, Corn and Zucchini<span class=\"fa-allergen-container\"></span></li><li>Refried Pinto Beans<span class=\"fa-allergen-container\"><i class=\"fa fa-circle fa-allergen allergen-vegan allergen-tooltip\"><span>Vegan</span></i></span></li><li>Steamed Green Beans<span class=\"fa-allergen-container\"><i class=\"fa fa-circle fa-allergen allergen-vegan allergen-tooltip\"><span>Vegan</span></i></span></li></ul>'\n",
            "b'<ul class=\"menu-item-list\"><li>Made to Order Cage Free Omelettes (Customize for veggie option)<span class=\"fa-allergen-container\"><i class=\"fa fa-circle fa-allergen allergen-dairy allergen-tooltip\"><span>Dairy</span></i><i class=\"fa fa-circle fa-allergen allergen-eggs allergen-tooltip\"><span>Eggs</span></i><i class=\"fa fa-circle fa-allergen allergen-pork allergen-tooltip\"><span>Pork</span></i><i class=\"fa fa-circle fa-allergen allergen-soy allergen-tooltip\"><span>Soy</span></i><i class=\"fa fa-circle fa-allergen allergen-vegan allergen-tooltip\"><span>Vegan</span></i><i class=\"fa fa-circle fa-allergen allergen-vegetarian allergen-tooltip\"><span>Vegetarian</span></i></span></li><li>Country Style French Toast<span class=\"fa-allergen-container\"><i class=\"fa fa-circle fa-allergen allergen-dairy allergen-tooltip\"><span>Dairy</span></i><i class=\"fa fa-circle fa-allergen allergen-eggs allergen-tooltip\"><span>Eggs</span></i><i class=\"fa fa-circle fa-allergen allergen-soy allergen-tooltip\"><span>Soy</span></i><i class=\"fa fa-circle fa-allergen allergen-vegetarian allergen-tooltip\"><span>Vegetarian</span></i><i class=\"fa fa-circle fa-allergen allergen-gluten allergen-tooltip\"><span>Wheat / Gluten</span></i></span></li><li>Scrambled Eggs<span class=\"fa-allergen-container\"><i class=\"fa fa-circle fa-allergen allergen-eggs allergen-tooltip\"><span>Eggs</span></i><i class=\"fa fa-circle fa-allergen allergen-vegetarian allergen-tooltip\"><span>Vegetarian</span></i></span></li><li>Boiled Eggs<span class=\"fa-allergen-container\"><i class=\"fa fa-circle fa-allergen allergen-eggs allergen-tooltip\"><span>Eggs</span></i><i class=\"fa fa-circle fa-allergen allergen-vegetarian allergen-tooltip\"><span>Vegetarian</span></i></span></li><li>Tater Tots<span class=\"fa-allergen-container\"><i class=\"fa fa-circle fa-allergen allergen-soy allergen-tooltip\"><span>Soy</span></i><i class=\"fa fa-circle fa-allergen allergen-vegan allergen-tooltip\"><span>Vegan</span></i></span></li><li>Bacon<span class=\"fa-allergen-container\"><i class=\"fa fa-circle fa-allergen allergen-pork allergen-tooltip\"><span>Pork</span></i></span></li><li>Honey Mustard Glazed Spiral Ham<span class=\"fa-allergen-container\"><i class=\"fa fa-circle fa-allergen allergen-pork allergen-tooltip\"><span>Pork</span></i></span></li><li>Roasted Carrots<span class=\"fa-allergen-container\"><i class=\"fa fa-circle fa-allergen allergen-vegan allergen-tooltip\"><span>Vegan</span></i></span></li><li>Pepperoni Pizza<span class=\"fa-allergen-container\"><i class=\"fa fa-circle fa-allergen allergen-dairy allergen-tooltip\"><span>Dairy</span></i><i class=\"fa fa-circle fa-allergen allergen-pork allergen-tooltip\"><span>Pork</span></i><i class=\"fa fa-circle fa-allergen allergen-soy allergen-tooltip\"><span>Soy</span></i><i class=\"fa fa-circle fa-allergen allergen-gluten allergen-tooltip\"><span>Wheat / Gluten</span></i></span></li><li>Cheesy Herb Thick Crust Pizza<span class=\"fa-allergen-container\"><i class=\"fa fa-circle fa-allergen allergen-dairy allergen-tooltip\"><span>Dairy</span></i><i class=\"fa fa-circle fa-allergen allergen-vegetarian allergen-tooltip\"><span>Vegetarian</span></i><i class=\"fa fa-circle fa-allergen allergen-gluten allergen-tooltip\"><span>Wheat / Gluten</span></i></span></li></ul>'\n",
            "b'<ul class=\"menu-item-list\"><li>Yogurt Parfait Bar (Dairy Free Yogurt available upon request)<span class=\"fa-allergen-container\"><i class=\"fa fa-circle fa-allergen allergen-dairy allergen-tooltip\"><span>Dairy</span></i><i class=\"fa fa-circle fa-allergen allergen-soy allergen-tooltip\"><span>Soy</span></i><i class=\"fa fa-circle fa-allergen allergen-vegan allergen-tooltip\"><span>Vegan</span></i><i class=\"fa fa-circle fa-allergen allergen-vegetarian allergen-tooltip\"><span>Vegetarian</span></i></span></li><li>Assorted Fruits<span class=\"fa-allergen-container\"><i class=\"fa fa-circle fa-allergen allergen-vegan allergen-tooltip\"><span>Vegan</span></i></span></li><li>Berrylicious Smoothie<span class=\"fa-allergen-container\"><i class=\"fa fa-circle fa-allergen allergen-vegetarian allergen-tooltip\"><span>Vegetarian</span></i></span></li><li>Assorted Breads and Bagels<span class=\"fa-allergen-container\"><i class=\"fa fa-circle fa-allergen allergen-food-not-analyzed-for-allergens allergen-tooltip\"><span>Food Not Analyzed for Allergens</span></i></span></li><li>Peanut Butter<span class=\"fa-allergen-container\"><i class=\"fa fa-circle fa-allergen allergen-peanuts allergen-tooltip\"><span>Peanuts</span></i><i class=\"fa fa-circle fa-allergen allergen-soy allergen-tooltip\"><span>Soy</span></i><i class=\"fa fa-circle fa-allergen allergen-vegetarian allergen-tooltip\"><span>Vegetarian</span></i></span></li><li>Waffle Bar<span class=\"fa-allergen-container\"><i class=\"fa fa-circle fa-allergen allergen-dairy allergen-tooltip\"><span>Dairy</span></i><i class=\"fa fa-circle fa-allergen allergen-eggs allergen-tooltip\"><span>Eggs</span></i><i class=\"fa fa-circle fa-allergen allergen-soy allergen-tooltip\"><span>Soy</span></i><i class=\"fa fa-circle fa-allergen allergen-vegetarian allergen-tooltip\"><span>Vegetarian</span></i><i class=\"fa fa-circle fa-allergen allergen-gluten allergen-tooltip\"><span>Wheat / Gluten</span></i></span></li><li>Bob\\'s Red Mill Thick Cut Oatmeal<span class=\"fa-allergen-container\"><i class=\"fa fa-circle fa-allergen allergen-vegan allergen-tooltip\"><span>Vegan</span></i><i class=\"fa fa-circle fa-allergen allergen-gluten allergen-tooltip\"><span>Wheat / Gluten</span></i></span></li></ul>'\n",
            "b'<ul class=\"menu-item-list\"><li>Chopped Tomatoes<span class=\"fa-allergen-container\"><i class=\"fa fa-circle fa-allergen allergen-vegan allergen-tooltip\"><span>Vegan</span></i></span></li><li>Expo Tostada Chicken<span class=\"fa-allergen-container\"></span></li><li>Expo Mexican Ground Beef<span class=\"fa-allergen-container\"></span></li><li>Tostadas<span class=\"fa-allergen-container\"><i class=\"fa fa-circle fa-allergen allergen-vegan allergen-tooltip\"><span>Vegan</span></i></span></li><li>Pinto Beans<span class=\"fa-allergen-container\"><i class=\"fa fa-circle fa-allergen allergen-vegan allergen-tooltip\"><span>Vegan</span></i></span></li><li>Black Beans<span class=\"fa-allergen-container\"><i class=\"fa fa-circle fa-allergen allergen-vegan allergen-tooltip\"><span>Vegan</span></i></span></li><li>Sauteed Peppers and Onions<span class=\"fa-allergen-container\"><i class=\"fa fa-circle fa-allergen allergen-vegan allergen-tooltip\"><span>Vegan</span></i></span></li><li>Shredded Lettuce<span class=\"fa-allergen-container\"><i class=\"fa fa-circle fa-allergen allergen-vegan allergen-tooltip\"><span>Vegan</span></i></span></li><li>Chopped Cilantro and Onion<span class=\"fa-allergen-container\"><i class=\"fa fa-circle fa-allergen allergen-vegan allergen-tooltip\"><span>Vegan</span></i></span></li><li>Shredded Monterey Jack and Cheddar Cheese<span class=\"fa-allergen-container\"><i class=\"fa fa-circle fa-allergen allergen-dairy allergen-tooltip\"><span>Dairy</span></i><i class=\"fa fa-circle fa-allergen allergen-vegetarian allergen-tooltip\"><span>Vegetarian</span></i></span></li><li>Sour Cream<span class=\"fa-allergen-container\"><i class=\"fa fa-circle fa-allergen allergen-dairy allergen-tooltip\"><span>Dairy</span></i><i class=\"fa fa-circle fa-allergen allergen-vegetarian allergen-tooltip\"><span>Vegetarian</span></i></span></li><li>Salsa Roja<span class=\"fa-allergen-container\"><i class=\"fa fa-circle fa-allergen allergen-vegan allergen-tooltip\"><span>Vegan</span></i></span></li><li>Salsa Verde<span class=\"fa-allergen-container\"><i class=\"fa fa-circle fa-allergen allergen-vegan allergen-tooltip\"><span>Vegan</span></i></span></li></ul>'\n",
            "b'<ul class=\"menu-item-list\"><li>Assorted Pastries and Desserts<span class=\"fa-allergen-container\"><i class=\"fa fa-circle fa-allergen allergen-dairy allergen-tooltip\"><span>Dairy</span></i><i class=\"fa fa-circle fa-allergen allergen-eggs allergen-tooltip\"><span>Eggs</span></i><i class=\"fa fa-circle fa-allergen allergen-soy allergen-tooltip\"><span>Soy</span></i><i class=\"fa fa-circle fa-allergen allergen-tree-nuts allergen-tooltip\"><span>Tree Nuts</span></i><i class=\"fa fa-circle fa-allergen allergen-vegetarian allergen-tooltip\"><span>Vegetarian</span></i><i class=\"fa fa-circle fa-allergen allergen-gluten allergen-tooltip\"><span>Wheat / Gluten</span></i></span></li><li>Assorted Fruits<span class=\"fa-allergen-container\"><i class=\"fa fa-circle fa-allergen allergen-vegan allergen-tooltip\"><span>Vegan</span></i></span></li><li>Blackberry Cobbler<span class=\"fa-allergen-container\"><i class=\"fa fa-circle fa-allergen allergen-dairy allergen-tooltip\"><span>Dairy</span></i><i class=\"fa fa-circle fa-allergen allergen-vegetarian allergen-tooltip\"><span>Vegetarian</span></i><i class=\"fa fa-circle fa-allergen allergen-gluten allergen-tooltip\"><span>Wheat / Gluten</span></i></span></li></ul>'\n",
            "b'<ul class=\"menu-item-list\"><li>Tuna Salad<span class=\"fa-allergen-container\"><i class=\"fa fa-circle fa-allergen allergen-eggs allergen-tooltip\"><span>Eggs</span></i><i class=\"fa fa-circle fa-allergen allergen-fish allergen-tooltip\"><span>Fish</span></i><i class=\"fa fa-circle fa-allergen allergen-soy allergen-tooltip\"><span>Soy</span></i></span></li><li>Spiral Sliced Ham<span class=\"fa-allergen-container\"><i class=\"fa fa-circle fa-allergen allergen-pork allergen-tooltip\"><span>Pork</span></i></span></li><li>Sliced Turkey<span class=\"fa-allergen-container\"></span></li><li>Mustard Dijon<span class=\"fa-allergen-container\"><i class=\"fa fa-circle fa-allergen allergen-vegan allergen-tooltip\"><span>Vegan</span></i></span></li><li>Mayonnaise<span class=\"fa-allergen-container\"><i class=\"fa fa-circle fa-allergen allergen-eggs allergen-tooltip\"><span>Eggs</span></i><i class=\"fa fa-circle fa-allergen allergen-soy allergen-tooltip\"><span>Soy</span></i><i class=\"fa fa-circle fa-allergen allergen-vegetarian allergen-tooltip\"><span>Vegetarian</span></i></span></li><li>Peanut Butter<span class=\"fa-allergen-container\"><i class=\"fa fa-circle fa-allergen allergen-peanuts allergen-tooltip\"><span>Peanuts</span></i><i class=\"fa fa-circle fa-allergen allergen-soy allergen-tooltip\"><span>Soy</span></i><i class=\"fa fa-circle fa-allergen allergen-vegetarian allergen-tooltip\"><span>Vegetarian</span></i></span></li><li>Strawberry Preserves<span class=\"fa-allergen-container\"><i class=\"fa fa-circle fa-allergen allergen-vegetarian allergen-tooltip\"><span>Vegetarian</span></i></span></li><li>Dill Pickles<span class=\"fa-allergen-container\"><i class=\"fa fa-circle fa-allergen allergen-vegan allergen-tooltip\"><span>Vegan</span></i></span></li><li>Assorted Sliced Cheese<span class=\"fa-allergen-container\"><i class=\"fa fa-circle fa-allergen allergen-dairy allergen-tooltip\"><span>Dairy</span></i><i class=\"fa fa-circle fa-allergen allergen-vegetarian allergen-tooltip\"><span>Vegetarian</span></i></span></li><li>Sliced Onion<span class=\"fa-allergen-container\"><i class=\"fa fa-circle fa-allergen allergen-vegan allergen-tooltip\"><span>Vegan</span></i></span></li><li>Sliced Tomatoes<span class=\"fa-allergen-container\"><i class=\"fa fa-circle fa-allergen allergen-vegan allergen-tooltip\"><span>Vegan</span></i></span></li><li>Lettuce<span class=\"fa-allergen-container\"><i class=\"fa fa-circle fa-allergen allergen-vegan allergen-tooltip\"><span>Vegan</span></i></span></li><li>Sliced French Bread<span class=\"fa-allergen-container\"><i class=\"fa fa-circle fa-allergen allergen-vegan allergen-tooltip\"><span>Vegan</span></i><i class=\"fa fa-circle fa-allergen allergen-gluten allergen-tooltip\"><span>Wheat / Gluten</span></i></span></li><li>Sliced Sourdough Bread<span class=\"fa-allergen-container\"><i class=\"fa fa-circle fa-allergen allergen-vegan allergen-tooltip\"><span>Vegan</span></i><i class=\"fa fa-circle fa-allergen allergen-gluten allergen-tooltip\"><span>Wheat / Gluten</span></i></span></li><li>Sliced Multi Grain Bread<span class=\"fa-allergen-container\"><i class=\"fa fa-circle fa-allergen allergen-vegetarian allergen-tooltip\"><span>Vegetarian</span></i><i class=\"fa fa-circle fa-allergen allergen-gluten allergen-tooltip\"><span>Wheat / Gluten</span></i></span></li><li>Sliced Honey Wheat Bread<span class=\"fa-allergen-container\"><i class=\"fa fa-circle fa-allergen allergen-dairy allergen-tooltip\"><span>Dairy</span></i><i class=\"fa fa-circle fa-allergen allergen-vegetarian allergen-tooltip\"><span>Vegetarian</span></i><i class=\"fa fa-circle fa-allergen allergen-gluten allergen-tooltip\"><span>Wheat / Gluten</span></i></span></li></ul>'\n",
            "b'<ul class=\"menu-item-list\"><li>Vegan Eggplant Parmesan<span class=\"fa-allergen-container\"><i class=\"fa fa-circle fa-allergen allergen-food-not-analyzed-for-allergens allergen-tooltip\"><span>Food Not Analyzed for Allergens</span></i></span></li><li>Pasta with Vegan Pesto<span class=\"fa-allergen-container\"><i class=\"fa fa-circle fa-allergen allergen-vegan allergen-tooltip\"><span>Vegan</span></i><i class=\"fa fa-circle fa-allergen allergen-gluten allergen-tooltip\"><span>Wheat / Gluten</span></i></span></li><li>Turmeric Rice and Chickpea Bowl with Pinenuts<span class=\"fa-allergen-container\"><i class=\"fa fa-circle fa-allergen allergen-food-not-analyzed-for-allergens allergen-tooltip\"><span>Food Not Analyzed for Allergens</span></i></span></li></ul>'\n",
            "b'<ul class=\"menu-item-list\"><li>Traditional Hummus<span class=\"fa-allergen-container\"><i class=\"fa fa-circle fa-allergen allergen-sesame allergen-tooltip\"><span>Sesame</span></i><i class=\"fa fa-circle fa-allergen allergen-vegan allergen-tooltip\"><span>Vegan</span></i></span></li><li>Roasted Red Pepper Hummus<span class=\"fa-allergen-container\"><i class=\"fa fa-circle fa-allergen allergen-sesame allergen-tooltip\"><span>Sesame</span></i><i class=\"fa fa-circle fa-allergen allergen-vegan allergen-tooltip\"><span>Vegan</span></i></span></li><li>Cilantro Hummus<span class=\"fa-allergen-container\"><i class=\"fa fa-circle fa-allergen allergen-sesame allergen-tooltip\"><span>Sesame</span></i><i class=\"fa fa-circle fa-allergen allergen-vegan allergen-tooltip\"><span>Vegan</span></i></span></li><li>Roasted Vegetables<span class=\"fa-allergen-container\"><i class=\"fa fa-circle fa-allergen allergen-vegan allergen-tooltip\"><span>Vegan</span></i></span></li><li>Assorted Olives<span class=\"fa-allergen-container\"><i class=\"fa fa-circle fa-allergen allergen-vegan allergen-tooltip\"><span>Vegan</span></i></span></li><li>Olive Tapenade<span class=\"fa-allergen-container\"><i class=\"fa fa-circle fa-allergen allergen-vegan allergen-tooltip\"><span>Vegan</span></i></span></li><li>Tahini Sauce<span class=\"fa-allergen-container\"><i class=\"fa fa-circle fa-allergen allergen-sesame allergen-tooltip\"><span>Sesame</span></i><i class=\"fa fa-circle fa-allergen allergen-vegan allergen-tooltip\"><span>Vegan</span></i></span></li><li>Assorted Pickled and Marinated Vegetables<span class=\"fa-allergen-container\"><i class=\"fa fa-circle fa-allergen allergen-vegan allergen-tooltip\"><span>Vegan</span></i></span></li><li>Tabbouleh<span class=\"fa-allergen-container\"><i class=\"fa fa-circle fa-allergen allergen-vegan allergen-tooltip\"><span>Vegan</span></i><i class=\"fa fa-circle fa-allergen allergen-gluten allergen-tooltip\"><span>Wheat / Gluten</span></i></span></li><li>Pasta Salad<span class=\"fa-allergen-container\"><i class=\"fa fa-circle fa-allergen allergen-vegan allergen-tooltip\"><span>Vegan</span></i><i class=\"fa fa-circle fa-allergen allergen-gluten allergen-tooltip\"><span>Wheat / Gluten</span></i></span></li></ul>'\n",
            "b'<ul class=\"menu-item-list\"><li>Red Wine Vinaigrette<span class=\"fa-allergen-container\"><i class=\"fa fa-circle fa-allergen allergen-soy allergen-tooltip\"><span>Soy</span></i><i class=\"fa fa-circle fa-allergen allergen-vegan allergen-tooltip\"><span>Vegan</span></i></span></li><li>Vegan Caesar Dressing<span class=\"fa-allergen-container\"><i class=\"fa fa-circle fa-allergen allergen-soy allergen-tooltip\"><span>Soy</span></i><i class=\"fa fa-circle fa-allergen allergen-vegan allergen-tooltip\"><span>Vegan</span></i></span></li><li>Ranch Dressing<span class=\"fa-allergen-container\"><i class=\"fa fa-circle fa-allergen allergen-dairy allergen-tooltip\"><span>Dairy</span></i><i class=\"fa fa-circle fa-allergen allergen-eggs allergen-tooltip\"><span>Eggs</span></i><i class=\"fa fa-circle fa-allergen allergen-soy allergen-tooltip\"><span>Soy</span></i><i class=\"fa fa-circle fa-allergen allergen-vegetarian allergen-tooltip\"><span>Vegetarian</span></i></span></li><li>Blue Cheese Dressing<span class=\"fa-allergen-container\"><i class=\"fa fa-circle fa-allergen allergen-dairy allergen-tooltip\"><span>Dairy</span></i><i class=\"fa fa-circle fa-allergen allergen-eggs allergen-tooltip\"><span>Eggs</span></i><i class=\"fa fa-circle fa-allergen allergen-soy allergen-tooltip\"><span>Soy</span></i><i class=\"fa fa-circle fa-allergen allergen-vegetarian allergen-tooltip\"><span>Vegetarian</span></i></span></li><li>Asian Style Dressing<span class=\"fa-allergen-container\"><i class=\"fa fa-circle fa-allergen allergen-sesame allergen-tooltip\"><span>Sesame</span></i><i class=\"fa fa-circle fa-allergen allergen-soy allergen-tooltip\"><span>Soy</span></i><i class=\"fa fa-circle fa-allergen allergen-vegetarian allergen-tooltip\"><span>Vegetarian</span></i></span></li><li>Balsamic Vinaigrette<span class=\"fa-allergen-container\"><i class=\"fa fa-circle fa-allergen allergen-vegan allergen-tooltip\"><span>Vegan</span></i></span></li><li>Oven Roasted Wild Mushroom Soup<span class=\"fa-allergen-container\"><i class=\"fa fa-circle fa-allergen allergen-dairy allergen-tooltip\"><span>Dairy</span></i><i class=\"fa fa-circle fa-allergen allergen-vegetarian allergen-tooltip\"><span>Vegetarian</span></i><i class=\"fa fa-circle fa-allergen allergen-gluten allergen-tooltip\"><span>Wheat / Gluten</span></i></span></li><li>Beef Tortilla Soup<span class=\"fa-allergen-container\"><i class=\"fa fa-circle fa-allergen allergen-dairy allergen-tooltip\"><span>Dairy</span></i></span></li></ul>'\n",
            "b'<ul class=\"menu-item-list\"><li>Chocolate Chips<span class=\"fa-allergen-container\"><i class=\"fa fa-circle fa-allergen allergen-dairy allergen-tooltip\"><span>Dairy</span></i><i class=\"fa fa-circle fa-allergen allergen-soy allergen-tooltip\"><span>Soy</span></i><i class=\"fa fa-circle fa-allergen allergen-vegetarian allergen-tooltip\"><span>Vegetarian</span></i></span></li><li>Powdered Sugar<span class=\"fa-allergen-container\"><i class=\"fa fa-circle fa-allergen allergen-vegetarian allergen-tooltip\"><span>Vegetarian</span></i></span></li><li>Nutella<span class=\"fa-allergen-container\"><i class=\"fa fa-circle fa-allergen allergen-dairy allergen-tooltip\"><span>Dairy</span></i><i class=\"fa fa-circle fa-allergen allergen-tree-nuts allergen-tooltip\"><span>Tree Nuts</span></i><i class=\"fa fa-circle fa-allergen allergen-vegetarian allergen-tooltip\"><span>Vegetarian</span></i></span></li><li>Assorted Berries<span class=\"fa-allergen-container\"><i class=\"fa fa-circle fa-allergen allergen-vegan allergen-tooltip\"><span>Vegan</span></i></span></li><li>Whipped Cream<span class=\"fa-allergen-container\"><i class=\"fa fa-circle fa-allergen allergen-dairy allergen-tooltip\"><span>Dairy</span></i><i class=\"fa fa-circle fa-allergen allergen-vegetarian allergen-tooltip\"><span>Vegetarian</span></i></span></li><li>Chia Seeds<span class=\"fa-allergen-container\"><i class=\"fa fa-circle fa-allergen allergen-vegan allergen-tooltip\"><span>Vegan</span></i></span></li><li>Rocky Road Ice Cream<span class=\"fa-allergen-container\"><i class=\"fa fa-circle fa-allergen allergen-dairy allergen-tooltip\"><span>Dairy</span></i><i class=\"fa fa-circle fa-allergen allergen-tree-nuts allergen-tooltip\"><span>Tree Nuts</span></i></span></li><li>Cookies and Cream Ice Cream<span class=\"fa-allergen-container\"><i class=\"fa fa-circle fa-allergen allergen-dairy allergen-tooltip\"><span>Dairy</span></i><i class=\"fa fa-circle fa-allergen allergen-soy allergen-tooltip\"><span>Soy</span></i><i class=\"fa fa-circle fa-allergen allergen-vegetarian allergen-tooltip\"><span>Vegetarian</span></i><i class=\"fa fa-circle fa-allergen allergen-gluten allergen-tooltip\"><span>Wheat / Gluten</span></i></span></li><li>Vanilla Bean Ice Cream<span class=\"fa-allergen-container\"><i class=\"fa fa-circle fa-allergen allergen-dairy allergen-tooltip\"><span>Dairy</span></i><i class=\"fa fa-circle fa-allergen allergen-vegetarian allergen-tooltip\"><span>Vegetarian</span></i></span></li></ul>'\n",
            "b'<ul class=\"menu-item-list\"><li>Tilapia Florentine<span class=\"fa-allergen-container\"><i class=\"fa fa-circle fa-allergen allergen-dairy allergen-tooltip\"><span>Dairy</span></i><i class=\"fa fa-circle fa-allergen allergen-fish allergen-tooltip\"><span>Fish</span></i></span></li><li>Chicken Cacciatore<span class=\"fa-allergen-container\"></span></li><li>Roasted Zucchini<span class=\"fa-allergen-container\"><i class=\"fa fa-circle fa-allergen allergen-vegan allergen-tooltip\"><span>Vegan</span></i></span></li><li>Fried Plantains<span class=\"fa-allergen-container\"><i class=\"fa fa-circle fa-allergen allergen-vegan allergen-tooltip\"><span>Vegan</span></i></span></li><li>Red Wine Braised Mushrooms<span class=\"fa-allergen-container\"><i class=\"fa fa-circle fa-allergen allergen-vegan allergen-tooltip\"><span>Vegan</span></i></span></li><li>Pasta with Herb Butter<span class=\"fa-allergen-container\"><i class=\"fa fa-circle fa-allergen allergen-dairy allergen-tooltip\"><span>Dairy</span></i><i class=\"fa fa-circle fa-allergen allergen-vegetarian allergen-tooltip\"><span>Vegetarian</span></i><i class=\"fa fa-circle fa-allergen allergen-gluten allergen-tooltip\"><span>Wheat / Gluten</span></i></span></li></ul>'\n",
            "b'<ul class=\"menu-item-list\"><li>Grilled Veggie, Hummus and Pepper Jack Spinach Tortilla Wrap<span class=\"fa-allergen-container\"><i class=\"fa fa-circle fa-allergen allergen-dairy allergen-tooltip\"><span>Dairy</span></i><i class=\"fa fa-circle fa-allergen allergen-sesame allergen-tooltip\"><span>Sesame</span></i><i class=\"fa fa-circle fa-allergen allergen-soy allergen-tooltip\"><span>Soy</span></i><i class=\"fa fa-circle fa-allergen allergen-vegetarian allergen-tooltip\"><span>Vegetarian</span></i><i class=\"fa fa-circle fa-allergen allergen-gluten allergen-tooltip\"><span>Wheat / Gluten</span></i></span></li><li>Thai Beef Tortilla Wrap<span class=\"fa-allergen-container\"><i class=\"fa fa-circle fa-allergen allergen-eggs allergen-tooltip\"><span>Eggs</span></i><i class=\"fa fa-circle fa-allergen allergen-fish allergen-tooltip\"><span>Fish</span></i><i class=\"fa fa-circle fa-allergen allergen-sesame allergen-tooltip\"><span>Sesame</span></i><i class=\"fa fa-circle fa-allergen allergen-soy allergen-tooltip\"><span>Soy</span></i><i class=\"fa fa-circle fa-allergen allergen-gluten allergen-tooltip\"><span>Wheat / Gluten</span></i></span></li><li>French Fries<span class=\"fa-allergen-container\"><i class=\"fa fa-circle fa-allergen allergen-soy allergen-tooltip\"><span>Soy</span></i><i class=\"fa fa-circle fa-allergen allergen-vegan allergen-tooltip\"><span>Vegan</span></i></span></li></ul>'\n",
            "b'<ul class=\"menu-item-list\"><li>Lentils<span class=\"fa-allergen-container\"><i class=\"fa fa-circle fa-allergen allergen-vegan allergen-tooltip\"><span>Vegan</span></i></span></li><li>Garlic Herb Roasted Fingerling Potatoes<span class=\"fa-allergen-container\"><i class=\"fa fa-circle fa-allergen allergen-vegan allergen-tooltip\"><span>Vegan</span></i></span></li><li>Honey Glazed Roasted Brussel Sprouts with Shallots<span class=\"fa-allergen-container\"><i class=\"fa fa-circle fa-allergen allergen-vegetarian allergen-tooltip\"><span>Vegetarian</span></i></span></li><li>Grilled Pesto Chicken Breast with Roasted Tomato Compote<span class=\"fa-allergen-container\"><i class=\"fa fa-circle fa-allergen allergen-dairy allergen-tooltip\"><span>Dairy</span></i><i class=\"fa fa-circle fa-allergen allergen-soy allergen-tooltip\"><span>Soy</span></i></span></li><li>Spicy Citrus Braised Pork<span class=\"fa-allergen-container\"><i class=\"fa fa-circle fa-allergen allergen-pork allergen-tooltip\"><span>Pork</span></i><i class=\"fa fa-circle fa-allergen allergen-soy allergen-tooltip\"><span>Soy</span></i><i class=\"fa fa-circle fa-allergen allergen-gluten allergen-tooltip\"><span>Wheat / Gluten</span></i></span></li><li>Roasted Garlic, Tomato and Basil Sauce<span class=\"fa-allergen-container\"><i class=\"fa fa-circle fa-allergen allergen-vegan allergen-tooltip\"><span>Vegan</span></i></span></li><li>Plain Pasta<span class=\"fa-allergen-container\"><i class=\"fa fa-circle fa-allergen allergen-vegan allergen-tooltip\"><span>Vegan</span></i><i class=\"fa fa-circle fa-allergen allergen-gluten allergen-tooltip\"><span>Wheat / Gluten</span></i></span></li><li>Steamed Quinoa<span class=\"fa-allergen-container\"><i class=\"fa fa-circle fa-allergen allergen-vegan allergen-tooltip\"><span>Vegan</span></i></span></li><li>Saut&#233;ed Green Beans<span class=\"fa-allergen-container\"><i class=\"fa fa-circle fa-allergen allergen-vegan allergen-tooltip\"><span>Vegan</span></i></span></li><li>Gardein Veggie Chik\\'n Alfredo Pasta Bake<span class=\"fa-allergen-container\"><i class=\"fa fa-circle fa-allergen allergen-dairy allergen-tooltip\"><span>Dairy</span></i><i class=\"fa fa-circle fa-allergen allergen-soy allergen-tooltip\"><span>Soy</span></i><i class=\"fa fa-circle fa-allergen allergen-vegetarian allergen-tooltip\"><span>Vegetarian</span></i><i class=\"fa fa-circle fa-allergen allergen-gluten allergen-tooltip\"><span>Wheat / Gluten</span></i></span></li><li>Potato Leek Soup<span class=\"fa-allergen-container\"><i class=\"fa fa-circle fa-allergen allergen-dairy allergen-tooltip\"><span>Dairy</span></i><i class=\"fa fa-circle fa-allergen allergen-vegetarian allergen-tooltip\"><span>Vegetarian</span></i></span></li><li>Beef Chili<span class=\"fa-allergen-container\"><i class=\"fa fa-circle fa-allergen allergen-dairy allergen-tooltip\"><span>Dairy</span></i></span></li></ul>'\n",
            "b'<ul class=\"menu-item-list\"><li>AAZ Roasted Rosemary Pork Loin<span class=\"fa-allergen-container\"><i class=\"fa fa-circle fa-allergen allergen-pork allergen-tooltip\"><span>Pork</span></i></span></li><li>Steamed Green Beans<span class=\"fa-allergen-container\"><i class=\"fa fa-circle fa-allergen allergen-vegan allergen-tooltip\"><span>Vegan</span></i></span></li><li>Steamed Quinoa<span class=\"fa-allergen-container\"><i class=\"fa fa-circle fa-allergen allergen-vegan allergen-tooltip\"><span>Vegan</span></i></span></li></ul>'\n",
            "b'<ul class=\"menu-item-list\"><li>Dim Sum Bar<span class=\"fa-allergen-container\"><i class=\"fa fa-circle fa-allergen allergen-food-not-analyzed-for-allergens allergen-tooltip\"><span>Food Not Analyzed for Allergens</span></i></span></li></ul>'\n",
            "b'<ul class=\"menu-item-list\"><li>Salad and Deli Bar (Customize for veggie options)<span class=\"fa-allergen-container\"><i class=\"fa fa-circle fa-allergen allergen-food-not-analyzed-for-allergens allergen-tooltip\"><span>Food Not Analyzed for Allergens</span></i></span></li><li>Pepperoni Flatbread Pizza<span class=\"fa-allergen-container\"><i class=\"fa fa-circle fa-allergen allergen-dairy allergen-tooltip\"><span>Dairy</span></i><i class=\"fa fa-circle fa-allergen allergen-pork allergen-tooltip\"><span>Pork</span></i><i class=\"fa fa-circle fa-allergen allergen-gluten allergen-tooltip\"><span>Wheat / Gluten</span></i></span></li><li>Creamy Spinach and Ricotta Naan Pizza<span class=\"fa-allergen-container\"><i class=\"fa fa-circle fa-allergen allergen-dairy allergen-tooltip\"><span>Dairy</span></i><i class=\"fa fa-circle fa-allergen allergen-eggs allergen-tooltip\"><span>Eggs</span></i><i class=\"fa fa-circle fa-allergen allergen-soy allergen-tooltip\"><span>Soy</span></i><i class=\"fa fa-circle fa-allergen allergen-vegetarian allergen-tooltip\"><span>Vegetarian</span></i><i class=\"fa fa-circle fa-allergen allergen-gluten allergen-tooltip\"><span>Wheat / Gluten</span></i></span></li></ul>'\n",
            "b'<ul class=\"menu-item-list\"><li>Salad and Deli Bar (Customize for veggie options)<span class=\"fa-allergen-container\"><i class=\"fa fa-circle fa-allergen allergen-food-not-analyzed-for-allergens allergen-tooltip\"><span>Food Not Analyzed for Allergens</span></i></span></li><li>Vegetable Rice Soup<span class=\"fa-allergen-container\"><i class=\"fa fa-circle fa-allergen allergen-vegan allergen-tooltip\"><span>Vegan</span></i></span></li></ul>'\n",
            "b'<ul class=\"menu-item-list\"><li>Burger Bar (Veggie Burgers available)<span class=\"fa-allergen-container\"><i class=\"fa fa-circle fa-allergen allergen-food-not-analyzed-for-allergens allergen-tooltip\"><span>Food Not Analyzed for Allergens</span></i></span></li><li>Steamed Brown Rice<span class=\"fa-allergen-container\"><i class=\"fa fa-circle fa-allergen allergen-vegan allergen-tooltip\"><span>Vegan</span></i></span></li><li>Saut&#233;ed Green Beans<span class=\"fa-allergen-container\"><i class=\"fa fa-circle fa-allergen allergen-vegan allergen-tooltip\"><span>Vegan</span></i></span></li><li>Steamed Cauliflower<span class=\"fa-allergen-container\"><i class=\"fa fa-circle fa-allergen allergen-vegan allergen-tooltip\"><span>Vegan</span></i></span></li><li>Garlic Herb Roasted Fingerling Potatoes<span class=\"fa-allergen-container\"><i class=\"fa fa-circle fa-allergen allergen-vegan allergen-tooltip\"><span>Vegan</span></i></span></li><li>Gardein Veggie Chik\\'n Parmesan<span class=\"fa-allergen-container\"><i class=\"fa fa-circle fa-allergen allergen-dairy allergen-tooltip\"><span>Dairy</span></i><i class=\"fa fa-circle fa-allergen allergen-eggs allergen-tooltip\"><span>Eggs</span></i><i class=\"fa fa-circle fa-allergen allergen-soy allergen-tooltip\"><span>Soy</span></i><i class=\"fa fa-circle fa-allergen allergen-vegetarian allergen-tooltip\"><span>Vegetarian</span></i><i class=\"fa fa-circle fa-allergen allergen-gluten allergen-tooltip\"><span>Wheat / Gluten</span></i></span></li><li>Seabass with Agave Lime Glaze<span class=\"fa-allergen-container\"><i class=\"fa fa-circle fa-allergen allergen-fish allergen-tooltip\"><span>Fish</span></i></span></li><li>Pasta with Beef and Pork Meatballs<span class=\"fa-allergen-container\"><i class=\"fa fa-circle fa-allergen allergen-dairy allergen-tooltip\"><span>Dairy</span></i><i class=\"fa fa-circle fa-allergen allergen-eggs allergen-tooltip\"><span>Eggs</span></i><i class=\"fa fa-circle fa-allergen allergen-pork allergen-tooltip\"><span>Pork</span></i><i class=\"fa fa-circle fa-allergen allergen-soy allergen-tooltip\"><span>Soy</span></i><i class=\"fa fa-circle fa-allergen allergen-gluten allergen-tooltip\"><span>Wheat / Gluten</span></i></span></li><li>Pepperoni Pizza<span class=\"fa-allergen-container\"><i class=\"fa fa-circle fa-allergen allergen-dairy allergen-tooltip\"><span>Dairy</span></i><i class=\"fa fa-circle fa-allergen allergen-pork allergen-tooltip\"><span>Pork</span></i><i class=\"fa fa-circle fa-allergen allergen-soy allergen-tooltip\"><span>Soy</span></i><i class=\"fa fa-circle fa-allergen allergen-gluten allergen-tooltip\"><span>Wheat / Gluten</span></i></span></li><li>Cheesy Herb Thick Crust Pizza<span class=\"fa-allergen-container\"><i class=\"fa fa-circle fa-allergen allergen-dairy allergen-tooltip\"><span>Dairy</span></i><i class=\"fa fa-circle fa-allergen allergen-vegetarian allergen-tooltip\"><span>Vegetarian</span></i><i class=\"fa fa-circle fa-allergen allergen-gluten allergen-tooltip\"><span>Wheat / Gluten</span></i></span></li></ul>'\n",
            "\n",
            " 30\n"
          ],
          "name": "stdout"
        }
      ]
    },
    {
      "cell_type": "code",
      "metadata": {
        "id": "oTQCfXpry79Q",
        "colab_type": "code",
        "outputId": "8078fde7-6e97-4a38-de90-28d6db0a6c7f",
        "colab": {
          "base_uri": "https://localhost:8080/",
          "height": 34
        }
      },
      "source": [
        "#foods = tree.xpath('//h3[@class=\"menu-venue-title\"]/text()')\n",
        "#foods = tree.xpath('//ul[@class=\"menu-item-list\"]/text()')\n",
        "#foods"
      ],
      "execution_count": 0,
      "outputs": [
        {
          "output_type": "execute_result",
          "data": {
            "text/plain": [
              "[]"
            ]
          },
          "metadata": {
            "tags": []
          },
          "execution_count": 90
        }
      ]
    },
    {
      "cell_type": "code",
      "metadata": {
        "id": "Rn6bO3rvUyo-",
        "colab_type": "code",
        "outputId": "efb03097-053e-44dd-fb08-88120e1479a3",
        "colab": {
          "base_uri": "https://localhost:8080/",
          "height": 34
        }
      },
      "source": [
        "#content = tree.xpath('//div[@id=\"content]')\n",
        "page = tree.xpath('//div[@id=\"page\"]/text()')\n",
        "print(page)"
      ],
      "execution_count": 0,
      "outputs": [
        {
          "output_type": "stream",
          "text": [
            "['\\r\\n\\t\\t\\t', '\\r\\n\\t\\t\\t\\r\\n\\t\\t\\t', '\\r\\n\\r\\n\\t\\t\\t', '\\r\\n\\t\\t']\n"
          ],
          "name": "stdout"
        }
      ]
    },
    {
      "cell_type": "markdown",
      "metadata": {
        "id": "P-koihE8tL1l",
        "colab_type": "text"
      },
      "source": [
        "# Part 3 (check Part3 file for full Part3 stuff)"
      ]
    },
    {
      "cell_type": "code",
      "metadata": {
        "id": "AAPseWIrbXco",
        "colab_type": "code",
        "colab": {}
      },
      "source": [
        "# First layer: breakfast = 0, brunch = 1, lunch = 2, dinner = 3\n",
        "# Second layer: Village = 0, EVK = 1, Parkside = 2\n",
        "big_array = [\n",
        "    # Breakfast\n",
        "    [\n",
        "        # Village\n",
        "        [\"Traditional Hummus\", \"Scrambled Eggs\"]\n",
        "    ]\n",
        "]\n",
        "\n",
        "\n",
        "# ** THIS IS WHAT WILL BE IN THE GOOGLE SHEETS (SAVED) ** #\n",
        "food_dict = {\n",
        "    \"Traditional Hummus\": {\"allergens\":[\"Eggs\", \"Vegetarian\"], \"rating\":-1}\n",
        "}"
      ],
      "execution_count": 0,
      "outputs": []
    },
    {
      "cell_type": "code",
      "metadata": {
        "id": "Ll2Y5rsakEgP",
        "colab_type": "code",
        "colab": {}
      },
      "source": [
        "# rate something in food dictionary\n",
        "def rate(rating, food_name):\n",
        "    food_dict[food_name][\"rating\"] = rating"
      ],
      "execution_count": 0,
      "outputs": []
    },
    {
      "cell_type": "code",
      "metadata": {
        "id": "pLf3PlzNj96W",
        "colab_type": "code",
        "colab": {}
      },
      "source": [
        "# evaluate dining hall for a given meal. Give indexes\n",
        "def evaluate(meal, dining_hall):\n",
        "    total = []\n",
        "\n",
        "    for food in big_array[meal][dining_hall]:\n",
        "        rating = food[\"rating\"]\n",
        "\n",
        "        if (rating > 0)\n",
        "            total.append(rating)\n",
        "\n",
        "    return sum(total)/len(total)\n",
        "\n",
        "\n",
        "\n",
        "#meals = [\"Breakfast\", \"Brunch\", \"Lunch\", \"Dinner\"]\n",
        "dh = [\"Village\", \"Parkside\", \"EVK\"]\n",
        "\n",
        "def evaluate_all(meal):\n",
        "    dh_ratings = []\n",
        "    for d in dh:\n",
        "        dh_ratings.append(evaluate(meal, d))\n",
        "    \n",
        "    return dh_ratings.index(max(dh_ratings))"
      ],
      "execution_count": 0,
      "outputs": []
    },
    {
      "cell_type": "code",
      "metadata": {
        "id": "MtCnIT7WppYk",
        "colab_type": "code",
        "colab": {}
      },
      "source": [
        ""
      ],
      "execution_count": 0,
      "outputs": []
    }
  ]
}